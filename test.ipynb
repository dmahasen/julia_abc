{
 "cells": [
  {
   "cell_type": "code",
   "execution_count": 1,
   "metadata": {},
   "outputs": [],
   "source": [
    "using Julia_ABC"
   ]
  },
  {
   "cell_type": "code",
   "execution_count": 2,
   "metadata": {},
   "outputs": [
    {
     "data": {
      "text/plain": [
       "3-element Vector{String}:\n",
       " \"@\"\n",
       " \"@v#.#\"\n",
       " \"@stdlib\""
      ]
     },
     "metadata": {},
     "output_type": "display_data"
    }
   ],
   "source": [
    "LOAD_PATH"
   ]
  },
  {
   "cell_type": "code",
   "execution_count": 2,
   "metadata": {},
   "outputs": [
    {
     "name": "stdout",
     "output_type": "stream",
     "text": [
      "Hello World!"
     ]
    }
   ],
   "source": [
    "Julia_ABC.greet()"
   ]
  },
  {
   "cell_type": "code",
   "execution_count": 5,
   "metadata": {},
   "outputs": [
    {
     "data": {
      "text/plain": [
       "Main.test_module"
      ]
     },
     "metadata": {},
     "output_type": "display_data"
    }
   ],
   "source": [
    "include(\"src/test_module.jl\")"
   ]
  },
  {
   "cell_type": "code",
   "execution_count": 17,
   "metadata": {},
   "outputs": [
    {
     "name": "stdout",
     "output_type": "stream",
     "text": [
      "Hello World! from greetings"
     ]
    }
   ],
   "source": [
    "include(\"src/greetings.jl\")"
   ]
  },
  {
   "cell_type": "code",
   "execution_count": 7,
   "metadata": {},
   "outputs": [
    {
     "name": "stdout",
     "output_type": "stream",
     "text": [
      "Hello World from test module"
     ]
    }
   ],
   "source": [
    "test_module.greet()"
   ]
  },
  {
   "cell_type": "code",
   "execution_count": 2,
   "metadata": {},
   "outputs": [
    {
     "ename": "UndefVarError",
     "evalue": "UndefVarError: `hello_world` not defined",
     "output_type": "error",
     "traceback": [
      "UndefVarError: `hello_world` not defined\n",
      "\n",
      "Stacktrace:\n",
      " [1] top-level scope\n",
      "   @ ~/git/julia/julia_abc/test.ipynb:1"
     ]
    }
   ],
   "source": [
    "hello_world()"
   ]
  },
  {
   "cell_type": "code",
   "execution_count": 2,
   "metadata": {},
   "outputs": [
    {
     "data": {
      "text/plain": [
       "30×3 Matrix{Int64}:\n",
       " 98   2   0\n",
       " 93   6   1\n",
       " 89  10   1\n",
       " 83  15   2\n",
       " 74  24   2\n",
       " 64  33   3\n",
       " 56  40   4\n",
       " 43  53   4\n",
       " 30  64   6\n",
       " 16  77   7\n",
       "  ⋮      \n",
       "  0  67  33\n",
       "  0  65  35\n",
       "  0  64  36\n",
       "  0  63  37\n",
       "  0  61  39\n",
       "  0  58  42\n",
       "  0  58  42\n",
       "  0  57  43\n",
       "  0  56  44"
      ]
     },
     "metadata": {},
     "output_type": "display_data"
    }
   ],
   "source": [
    "initState = [99, 1, 0]\n",
    "\n",
    "param = [0.5,0.025]\n",
    "\n",
    "obsTimes = 1:1:30\n",
    "\n",
    "simData = sir(initState,param,obsTimes)"
   ]
  }
 ],
 "metadata": {
  "kernelspec": {
   "display_name": "Julia 1.10.4",
   "language": "julia",
   "name": "julia-1.10"
  },
  "language_info": {
   "file_extension": ".jl",
   "mimetype": "application/julia",
   "name": "julia",
   "version": "1.10.4"
  }
 },
 "nbformat": 4,
 "nbformat_minor": 2
}
